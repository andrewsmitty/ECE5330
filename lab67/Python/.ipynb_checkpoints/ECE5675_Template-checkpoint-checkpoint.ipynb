{
 "cells": [
  {
   "cell_type": "raw",
   "metadata": {},
   "source": [
    "\\tableofcontents\n",
    "% These TeX commands run at the start to remove section numbering\n",
    "\\renewcommand{\\thesection}{\\hspace*{-1.0em}}\n",
    "\\renewcommand{\\thesubsection}{\\hspace*{-1.0em}}\n",
    "\\renewcommand{\\thesubsubsection}{\\hspace*{-1.0em}}\n",
    "\\setlength\\parindent{0pt}\n",
    "\\setlength\\parskip{10pt}"
   ]
  },
  {
   "cell_type": "code",
   "execution_count": 1,
   "metadata": {},
   "outputs": [
    {
     "name": "stdout",
     "output_type": "stream",
     "text": [
      "Populating the interactive namespace from numpy and matplotlib\n"
     ]
    }
   ],
   "source": [
    "%pylab inline\n",
    "#%matplotlib qt\n",
    "from __future__ import division # use so 1/2 = 0.5, etc. needed for 2.7 only\n",
    "import sk_dsp_comm.sigsys as ssd # change the alias to ss if you want\n",
    "import sk_dsp_comm.digitalcom as dc\n",
    "import sk_dsp_comm.fir_design_helper as fir_d\n",
    "import sk_dsp_comm.synchronization as pll\n",
    "import scipy.signal as signal\n",
    "from IPython.display import Audio, display\n",
    "from IPython.display import Image, SVG"
   ]
  },
  {
   "cell_type": "code",
   "execution_count": 2,
   "metadata": {
    "collapsed": true
   },
   "outputs": [],
   "source": [
    "pylab.rcParams['savefig.dpi'] = 100 # default 72\n",
    "#pylab.rcParams['figure.figsize'] = (6.0, 4.0) # default (6,4)\n",
    "#%config InlineBackend.figure_formats=['png'] # default for inline viewing\n",
    "%config InlineBackend.figure_formats=['svg'] # SVG inline viewing\n",
    "#%config InlineBackend.figure_formats=['pdf'] # render pdf figs for LaTeX"
   ]
  },
  {
   "cell_type": "code",
   "execution_count": 3,
   "metadata": {
    "collapsed": true
   },
   "outputs": [],
   "source": [
    "# Use this cell if you are going to do symbolic calcs with sympy\n",
    "from IPython.display import display\n",
    "from sympy.interactive import printing\n",
    "printing.init_printing(use_latex='mathjax')\n",
    "import sympy as sym\n",
    "# Define a few symbolic variables\n",
    "x,y,z,a,b,c = sym.symbols(\"x y z a b c\")"
   ]
  },
  {
   "cell_type": "raw",
   "metadata": {},
   "source": [
    "%Graphics embed example\n",
    "%Image('fname.png',width='90%')\n",
    "%Commandline for conversion to article:\n",
    "%>jupyter nbconvert --to latex --template article  \"Template.ipynb\"\n",
    "% Commandline conversion to pdf in one step:\n",
    "%>jupyter nbconvert --to latex --template article  \"Template.ipynb\" --post pdf \n",
    "\\newpage"
   ]
  },
  {
   "cell_type": "markdown",
   "metadata": {},
   "source": [
    "# Section 1 of a New Notebook"
   ]
  },
  {
   "cell_type": "code",
   "execution_count": 1,
   "metadata": {
    "collapsed": true
   },
   "outputs": [],
   "source": [
    "h = [int(0x272), int(0x4d0)]\n",
    "v = [0.5, 0.99]"
   ]
  }
 ],
 "metadata": {
  "kernelspec": {
   "display_name": "Python 3",
   "language": "python",
   "name": "python3"
  },
  "language_info": {
   "codemirror_mode": {
    "name": "ipython",
    "version": 3
   },
   "file_extension": ".py",
   "mimetype": "text/x-python",
   "name": "python",
   "nbconvert_exporter": "python",
   "pygments_lexer": "ipython3",
   "version": "3.6.4"
  }
 },
 "nbformat": 4,
 "nbformat_minor": 1
}
